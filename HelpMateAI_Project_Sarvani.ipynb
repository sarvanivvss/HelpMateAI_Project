{
  "nbformat": 4,
  "nbformat_minor": 0,
  "metadata": {
    "colab": {
      "provenance": []
    },
    "kernelspec": {
      "name": "python3",
      "display_name": "Python 3"
    },
    "language_info": {
      "name": "python"
    }
  },
  "cells": [
    {
      "cell_type": "markdown",
      "source": [
        "### Part 1\n",
        "\n",
        "***Problem Statement*** - The goal of the project is to build a RAG system using frameworks such as LlamaIndex or LangChain.\n"
      ],
      "metadata": {
        "id": "9J_NR-yDCOZW"
      }
    },
    {
      "cell_type": "markdown",
      "source": [
        "This starter notebook contains the general steps to create an RAG using LlamaIndex framework. Feel free to modify the code as per your requirement."
      ],
      "metadata": {
        "id": "XADTF7-SP4wt"
      }
    },
    {
      "cell_type": "markdown",
      "source": [
        "**Step 1** : Import the necessary libraries"
      ],
      "metadata": {
        "id": "xyyj2QeEBK-O"
      }
    },
    {
      "cell_type": "code",
      "execution_count": 1,
      "metadata": {
        "id": "-oI30ZxINqXR",
        "colab": {
          "base_uri": "https://localhost:8080/"
        },
        "outputId": "462d114e-405a-4b9c-c3f9-2572e9607f84"
      },
      "outputs": [
        {
          "output_type": "stream",
          "name": "stdout",
          "text": [
            "\u001b[?25l   \u001b[90m━━━━━━━━━━━━━━━━━━━━━━━━━━━━━━━━━━━━━━━━\u001b[0m \u001b[32m0.0/389.8 kB\u001b[0m \u001b[31m?\u001b[0m eta \u001b[36m-:--:--\u001b[0m\r\u001b[2K   \u001b[90m━━━━━━━━━━━━━━━━━━━━━━━━━━━━━━━━━━━━━━━━\u001b[0m \u001b[32m389.8/389.8 kB\u001b[0m \u001b[31m18.9 MB/s\u001b[0m eta \u001b[36m0:00:00\u001b[0m\n",
            "\u001b[?25h\u001b[?25l   \u001b[90m━━━━━━━━━━━━━━━━━━━━━━━━━━━━━━━━━━━━━━━━\u001b[0m \u001b[32m0.0/1.6 MB\u001b[0m \u001b[31m?\u001b[0m eta \u001b[36m-:--:--\u001b[0m\r\u001b[2K   \u001b[91m━━━━━━━━━━━━━━━━━━━━━━━━━━━━━━━━━━━━━━━\u001b[0m\u001b[91m╸\u001b[0m \u001b[32m1.6/1.6 MB\u001b[0m \u001b[31m115.1 MB/s\u001b[0m eta \u001b[36m0:00:01\u001b[0m\r\u001b[2K   \u001b[90m━━━━━━━━━━━━━━━━━━━━━━━━━━━━━━━━━━━━━━━━\u001b[0m \u001b[32m1.6/1.6 MB\u001b[0m \u001b[31m41.9 MB/s\u001b[0m eta \u001b[36m0:00:00\u001b[0m\n",
            "\u001b[2K   \u001b[90m━━━━━━━━━━━━━━━━━━━━━━━━━━━━━━━━━━━━━━━━\u001b[0m \u001b[32m1.2/1.2 MB\u001b[0m \u001b[31m45.6 MB/s\u001b[0m eta \u001b[36m0:00:00\u001b[0m\n",
            "\u001b[2K   \u001b[90m━━━━━━━━━━━━━━━━━━━━━━━━━━━━━━━━━━━━━━━━\u001b[0m \u001b[32m195.8/195.8 kB\u001b[0m \u001b[31m13.4 MB/s\u001b[0m eta \u001b[36m0:00:00\u001b[0m\n",
            "\u001b[2K   \u001b[90m━━━━━━━━━━━━━━━━━━━━━━━━━━━━━━━━━━━━━━━━\u001b[0m \u001b[32m298.0/298.0 kB\u001b[0m \u001b[31m19.1 MB/s\u001b[0m eta \u001b[36m0:00:00\u001b[0m\n",
            "\u001b[2K   \u001b[90m━━━━━━━━━━━━━━━━━━━━━━━━━━━━━━━━━━━━━━━━\u001b[0m \u001b[32m1.2/1.2 MB\u001b[0m \u001b[31m39.0 MB/s\u001b[0m eta \u001b[36m0:00:00\u001b[0m\n",
            "\u001b[2K   \u001b[90m━━━━━━━━━━━━━━━━━━━━━━━━━━━━━━━━━━━━━━━━\u001b[0m \u001b[32m49.5/49.5 kB\u001b[0m \u001b[31m3.3 MB/s\u001b[0m eta \u001b[36m0:00:00\u001b[0m\n",
            "\u001b[?25h"
          ]
        }
      ],
      "source": [
        "# Install OpenAI, LlamaIndex\n",
        "!pip install -U -qq llama-index openai"
      ]
    },
    {
      "cell_type": "code",
      "source": [
        "## Install additional supporting libraries as required\n",
        "import nest_asyncio\n",
        "nest_asyncio.apply()"
      ],
      "metadata": {
        "id": "DxauJOZZOExN"
      },
      "execution_count": 2,
      "outputs": []
    },
    {
      "cell_type": "code",
      "source": [
        "# Importing the libraries\n",
        "from llama_index.llms.openai import OpenAI\n",
        "from llama_index.core.llms import ChatMessage\n",
        "import os\n",
        "import openai\n",
        "import pandas as pd"
      ],
      "metadata": {
        "id": "TrjDdE5GSSXG"
      },
      "execution_count": 3,
      "outputs": []
    },
    {
      "cell_type": "markdown",
      "source": [
        "**Step 2**: Mount your Google Drive and Set the API key"
      ],
      "metadata": {
        "id": "7B__M_LbIS2T"
      }
    },
    {
      "cell_type": "code",
      "source": [
        "# Mount Google Drive\n",
        "from google.colab import drive\n",
        "drive.mount('/content/drive', force_remount = True)"
      ],
      "metadata": {
        "colab": {
          "base_uri": "https://localhost:8080/"
        },
        "id": "gQ813F1IHWGv",
        "outputId": "7179629a-2a2d-46c0-ca57-45f1451f3d77"
      },
      "execution_count": 4,
      "outputs": [
        {
          "output_type": "stream",
          "name": "stdout",
          "text": [
            "Mounted at /content/drive\n"
          ]
        }
      ]
    },
    {
      "cell_type": "code",
      "source": [
        "# Read the API key from the text file and strip any leading or trailing whitespace\n",
        "with open(\"/content/OPENAI_API_KEY.txt\", \"r\") as f:\n",
        "    api_key = f.read().strip()\n",
        "\n",
        "# Set the API key for OpenAI\n",
        "openai.api_key = api_key"
      ],
      "metadata": {
        "id": "XMmZlv34ZNAW"
      },
      "execution_count": 5,
      "outputs": []
    },
    {
      "cell_type": "markdown",
      "source": [
        "Step 3 - Data Loading"
      ],
      "metadata": {
        "id": "isSltrJ0I3ce"
      }
    },
    {
      "cell_type": "markdown",
      "source": [
        "Dataset:\n",
        "\n",
        "- For HelpMate AI project, the insurance documents can be downloaded from the module 'RAG Demonstration' or download the files from the following [link](https://cdn.upgrad.com/uploads/production/8e278245-506c-4c8c-9246-892280692919/Policy+Documents.zip)\n",
        "\n",
        "- For BYOP project, you may create your own dataset or open-source datasets from [Kaggle](www.kaggle.com)"
      ],
      "metadata": {
        "id": "f42LFJY6Tna_"
      }
    },
    {
      "cell_type": "markdown",
      "source": [
        "Use the appropriate document loader for loading the documents.\n",
        "\n",
        "**NOTE** - No matter how powerful the given data loader is, ensure that your file is properly formatted, and the loader is able to read the file clearly else the query engine might fail."
      ],
      "metadata": {
        "id": "hIwdNZBKtjc5"
      }
    },
    {
      "cell_type": "code",
      "source": [
        "# Import the necessary Reader\n",
        "from llama_index.core import SimpleDirectoryReader\n",
        "\n",
        "# Let us take input from a directory\n",
        "reader = SimpleDirectoryReader(input_dir=\"/content/drive/MyDrive/InsuranceAI/\")\n",
        "\n",
        "# Use the load_data() method to read the files from the directory\n",
        "documents2 = reader.load_data()\n",
        "# number of files\n",
        "print(f\"Loaded {len(documents2)} docs\")"
      ],
      "metadata": {
        "id": "sqYSqxq_al53",
        "outputId": "6edce014-5332-48af-87e7-dffa65243316",
        "colab": {
          "base_uri": "https://localhost:8080/"
        }
      },
      "execution_count": 7,
      "outputs": [
        {
          "output_type": "stream",
          "name": "stdout",
          "text": [
            "Loaded 64 docs\n"
          ]
        }
      ]
    },
    {
      "cell_type": "code",
      "source": [
        "documents2[0]"
      ],
      "metadata": {
        "id": "RdhYHDiv_25Q",
        "outputId": "9a56dd23-cd43-49a4-9995-ec4a243b1b2a",
        "colab": {
          "base_uri": "https://localhost:8080/"
        }
      },
      "execution_count": null,
      "outputs": [
        {
          "output_type": "execute_result",
          "data": {
            "text/plain": [
              "Document(id_='7e51290c-91fa-4525-9e3a-0223707a4ea4', embedding=None, metadata={'page_label': '1', 'file_name': 'HDFC-Life-Easy-Health-101N110V03-Policy-Bond-Single-Pay.pdf', 'file_path': '/content/drive/MyDrive/Colab Notebooks/Insurance doc/HDFC-Life-Easy-Health-101N110V03-Policy-Bond-Single-Pay.pdf', 'file_type': 'application/pdf', 'file_size': 1303156, 'creation_date': '2024-05-27', 'last_modified_date': '2024-05-27'}, excluded_embed_metadata_keys=['file_name', 'file_type', 'file_size', 'creation_date', 'last_modified_date', 'last_accessed_date'], excluded_llm_metadata_keys=['file_name', 'file_type', 'file_size', 'creation_date', 'last_modified_date', 'last_accessed_date'], relationships={}, text=' \\n             Part A \\n<<Date>> \\n<<Policyholder’s Name>>  \\n<<Policyholder’s Address>> \\n<<Policyholder’s Contact Number>>  \\n \\nDear <<Policyholder’s Name>>,  \\n \\nSub: Your Policy no. <<  >> \\nWe are glad to inform you that your proposal has been accepted and the HDFC Life Easy Health (“Policy”) \\nbeing this document, has been issued. We have made every effort to design your Policy in a simple format. We \\nhave highlighted items of importance so that you may recognize them easily. \\n \\nPolicy document:  \\nAs an evidence of the insurance contract between HDFC Life Insurance Company Limited and you, the Policy \\nis enclosed herewith. Please preserve this document safely and also inform your nominees about the same. A \\ncopy of your proposal form and other relevant documents submitted by you is also enclosed for your \\ninformation and record.  \\n \\nCancellation in the Free-Look Period:  \\n \\n<< In case you are not agreeable to any of the terms and conditions stated in the Policy, you have the option to \\nreturn the Policy to us for cancellation stating the reasons thereof, within 30 days from the date of receipt of the \\nPolicy as your Policy is an electronic Policy / purchased through Distance Marketing mode. On receipt of your \\nletter along with the original Policy (original Policy Document is not required for policies in dematerialised \\nform), we shall arrange to refund the Premium paid by you, subject to deduction of the proportionate risk \\nPremium for the period of cover and the expenses incurred by us for medical examination (if any) and stamp \\nduty charges. / In case you are not agreeable to any of the terms and conditions stated in the Policy, you have the \\noption to return the Policy to us for cancellation stating the reasons thereof, within 15 days from the date of \\nreceipt of the Policy. On receipt of your letter along with the original Policy (original Policy Document is not \\nrequired for policies in dematerialised form), we shall arrange to refund the Premium paid by you, subject to \\ndeduction of the proportionate risk Premium for the period of cover and the expenses incurred by us for medical \\nexamination (if any) and stamp duty charges. >> \\n \\nContacting us: \\nThe address for correspondence is specified below. To enable us to serve you better, you are requested to quote \\nyour Policy number in all future correspondence. In case you are keen to know more about our products and \\nservices, we would request you to talk to our Certified Financial Consultant (Insurance Agent) who has advised \\nyou while taking this Policy. The details of your Certified Financial Consultant including contact details are \\nlisted below.  \\n \\nTo contact us in case of any grievance, please refer to Part G. In case you are not satisfied with our response, \\nyou can also approach the Insurance Ombudsman in your region. \\n \\nThanking you for choosing HDFC Life Insurance Company Limited and looking forward to serving you in the \\nyears ahead, \\nYours sincerely, \\n \\n<< Designation of the Authorised Signatory >> \\n \\nBranch Address:  <<Branch Address>>  \\nAgency/Intermediary Code:  <<Agency/Intermediary Code>> \\nAgency/Intermediary Name:  <<Agency/Intermediary Name>> \\nAgency/Intermediary Telephone Number:  <<Agency/Intermediary mobile & \\nlandline number>> ', start_char_idx=None, end_char_idx=None, text_template='{metadata_str}\\n\\n{content}', metadata_template='{key}: {value}', metadata_seperator='\\n')"
            ]
          },
          "metadata": {},
          "execution_count": 7
        }
      ]
    },
    {
      "cell_type": "markdown",
      "source": [
        "Step 4 - Building the query engine\n",
        "\n",
        "The general process for creating the query_engine is:\n",
        "- Load the documents\n",
        "- Create nodes from the documents\n",
        "- Create index from documents\n",
        "- Initialise the Query Engine\n",
        "- Query the index with the prompt\n",
        "- Generate the response using the retrieved nodes"
      ],
      "metadata": {
        "id": "CLb-tG3oouy5"
      }
    },
    {
      "cell_type": "code",
      "source": [
        "# Import the necessary libraries\n",
        "from llama_index.core.node_parser import SimpleNodeParser\n",
        "from llama_index.core import VectorStoreIndex\n",
        "from IPython.display import display, HTML\n",
        "\n",
        "# create parser and parse document into nodes\n",
        "parser = SimpleNodeParser.from_defaults()\n",
        "nodes = parser.get_nodes_from_documents(documents2)\n",
        "\n",
        "# # build index\n",
        "index = VectorStoreIndex(nodes)\n",
        "\n",
        "# Construct Query Engine\n",
        "query_engine = index.as_query_engine()\n",
        "# Perform query operation and generate the response\n",
        "query_response = query_engine.query(\"What are all the conditions for termination of Member Life Insurance?\")"
      ],
      "metadata": {
        "id": "8vlxjmpfoXWD"
      },
      "execution_count": 21,
      "outputs": []
    },
    {
      "cell_type": "code",
      "source": [
        "query_response.response"
      ],
      "metadata": {
        "id": "pOFYMNt5mbus",
        "outputId": "b7c5a878-74dd-421a-b853-9e0aa5f82403",
        "colab": {
          "base_uri": "https://localhost:8080/",
          "height": 71
        }
      },
      "execution_count": 22,
      "outputs": [
        {
          "output_type": "execute_result",
          "data": {
            "text/plain": [
              "\"The conditions for termination of Member Life Insurance are: \\n- The date the Group Policy is terminated\\n- The date the last premium is paid for the Member's insurance\\n- Any requested date before a specified date\\n- The date the Member ceases to be a Member as defined in PART I\\n- The date the Member ceases to be in a class for which Member Life Insurance is provided\\n- The date the Member retires\\n- The date the Member ceases Active Work.\""
            ],
            "application/vnd.google.colaboratory.intrinsic+json": {
              "type": "string"
            }
          },
          "metadata": {},
          "execution_count": 22
        }
      ]
    },
    {
      "cell_type": "code",
      "source": [
        "query_response.metadata"
      ],
      "metadata": {
        "id": "yixyGliNmpI1",
        "outputId": "a42f53b2-6748-4f66-a9d2-6ae05264ab82",
        "colab": {
          "base_uri": "https://localhost:8080/"
        }
      },
      "execution_count": 10,
      "outputs": [
        {
          "output_type": "execute_result",
          "data": {
            "text/plain": [
              "{'54ab4098-de4b-473d-9ba3-15f264b10af2': {'page_label': '37',\n",
              "  'file_name': 'Principal-Sample-Life-Insurance-Policy.pdf',\n",
              "  'file_path': '/content/drive/MyDrive/InsuranceAI/Principal-Sample-Life-Insurance-Policy.pdf',\n",
              "  'file_type': 'application/pdf',\n",
              "  'file_size': 222772,\n",
              "  'creation_date': '2024-12-04',\n",
              "  'last_modified_date': '2024-12-04'},\n",
              " '634e3ac5-ca2e-4c46-82b8-113bafc87c54': {'page_label': '23',\n",
              "  'file_name': 'Principal-Sample-Life-Insurance-Policy.pdf',\n",
              "  'file_path': '/content/drive/MyDrive/InsuranceAI/Principal-Sample-Life-Insurance-Policy.pdf',\n",
              "  'file_type': 'application/pdf',\n",
              "  'file_size': 222772,\n",
              "  'creation_date': '2024-12-04',\n",
              "  'last_modified_date': '2024-12-04'}}"
            ]
          },
          "metadata": {},
          "execution_count": 10
        }
      ]
    },
    {
      "cell_type": "markdown",
      "source": [
        "Step 5 - Creating a Response Pipeline\n",
        "\n",
        "A Query Response pipeline encapsulates all the necssary steps to build a RAG pipeline. Modify the functions `query_response` and `initialize_conv()`  below. The `query_response` functions return the query response from the query engine along with the supporting documents and the `initialize_conv()` function creates an interactive chatbot."
      ],
      "metadata": {
        "id": "rEmEt1GfEtSO"
      }
    },
    {
      "cell_type": "code",
      "source": [
        "# Streaming\n",
        "#query_engine = index.as_query_engine(streaming=True)\n",
        "#streaming_response = query_engine.query(\"What is the policy number of HDFC SURGICARE PLAN\")\n",
        "#streaming_response.print_response_stream()"
      ],
      "metadata": {
        "id": "dobeTPP2-XAh",
        "outputId": "d297261b-cbea-4221-997e-bd907ca4ed48",
        "colab": {
          "base_uri": "https://localhost:8080/"
        }
      },
      "execution_count": null,
      "outputs": [
        {
          "output_type": "stream",
          "name": "stdout",
          "text": [
            "The policy number of HDFC SURGICARE PLAN is 10123654."
          ]
        }
      ]
    },
    {
      "cell_type": "code",
      "source": [
        "## Query response function\n",
        "def query_response(user_input):\n",
        "    \"\"\"\n",
        "    Generate a response based on user input by querying the query engine and\n",
        "    retrieving metadata from the source nodes.\n",
        "\n",
        "    Args:\n",
        "    user_input (str): The input query provided by the user.\n",
        "\n",
        "    Returns:\n",
        "    final_response (str): The final response generated by the query engine, including a\n",
        "    reference to the source file names and page numbers.\n",
        "    \"\"\"\n",
        "    response = query_engine.query(user_input)\n",
        "    file_name = response.source_nodes[0].node.metadata['file_name'] + \"page nos: \" + response.source_nodes[0].node.metadata['page_label'] + \", \" + response.source_nodes[1].node.metadata['page_label']\n",
        "    final_response = response.response + '\\n Check further at ' + file_name\n",
        "    return final_response"
      ],
      "metadata": {
        "id": "DpDFsDUTxcjd"
      },
      "execution_count": 31,
      "outputs": []
    },
    {
      "cell_type": "code",
      "source": [
        "def initialize_conv():\n",
        "    \"\"\"\n",
        "    Initialize a conversation with the user, allowing them to ask questions\n",
        "    about the policy documents. The user can type 'exit' to end the\n",
        "    conversation.\n",
        "\n",
        "    The function continuously prompts the user for input, processes the input\n",
        "    using the query_response function, and displays the response. The loop\n",
        "    terminates when the user types 'exit'.\n",
        "    \"\"\"\n",
        "    print('Feel free to ask Questions regarding PRINCIPAL LIFE INSURANCE COMPANY insurance plans. Press exit once you are done')\n",
        "    while True:\n",
        "      user_input = input()\n",
        "      # Type 'exit' to exit conversation\n",
        "      if user_input.lower() == 'exit':\n",
        "        print('Exiting the program... bye')\n",
        "        break\n",
        "      else:\n",
        "        response = query_response(user_input)\n",
        "        display(HTML(f'<p style=\"font-size:20px\">{response}</p>'))\n"
      ],
      "metadata": {
        "id": "kVdmrWRB02QF"
      },
      "execution_count": 32,
      "outputs": []
    },
    {
      "cell_type": "code",
      "source": [
        "initialize_conv()"
      ],
      "metadata": {
        "id": "LD9uE8dIUIHS",
        "outputId": "30dbdbc0-0a4e-40ce-c0fb-5bdbfe8d85bb",
        "colab": {
          "base_uri": "https://localhost:8080/",
          "height": 558
        }
      },
      "execution_count": 20,
      "outputs": [
        {
          "name": "stdout",
          "output_type": "stream",
          "text": [
            "Feel free to ask Questions regarding PRINCIPAL LIFE INSURANCE COMPANY insurance plans. Press exit once you are done\n",
            "How many insurance plans available in PRINCIPAL LIFE INSURANCE COMPANY\n"
          ]
        },
        {
          "output_type": "display_data",
          "data": {
            "text/plain": [
              "<IPython.core.display.HTML object>"
            ],
            "text/html": [
              "<p style=\"font-size:20px\">Three insurance plans are available in PRINCIPAL LIFE INSURANCE COMPANY.\n",
              " Check further at Principal-Sample-Life-Insurance-Policy.pdfpage nos: 3, 5</p>"
            ]
          },
          "metadata": {}
        },
        {
          "name": "stdout",
          "output_type": "stream",
          "text": [
            "What is cessation in Group term life policy?\n"
          ]
        },
        {
          "output_type": "display_data",
          "data": {
            "text/plain": [
              "<IPython.core.display.HTML object>"
            ],
            "text/html": [
              "<p style=\"font-size:20px\">Cessation in a Group term life policy refers to the termination of an individual's insurance coverage under the policy. This can occur for various reasons such as the policy being terminated, the last premium being paid, the individual requesting termination before a specific date, the individual no longer meeting the criteria to be a member, or the individual retiring or ceasing active work.\n",
              " Check further at Principal-Sample-Life-Insurance-Policy.pdfpage nos: 35, 23</p>"
            ]
          },
          "metadata": {}
        },
        {
          "name": "stdout",
          "output_type": "stream",
          "text": [
            "Policyholder Eligibility Requirements\n"
          ]
        },
        {
          "output_type": "display_data",
          "data": {
            "text/plain": [
              "<IPython.core.display.HTML object>"
            ],
            "text/html": [
              "<p style=\"font-size:20px\">The Policyholder must be actively engaged in business for profit or established as a legitimate nonprofit corporation according to the Internal Revenue Code. Additionally, the Policyholder must make at least 50% of the required premium contributions for all Members, maintain specific participation percentages for eligible employees and Dependents, and ensure that all eligible employees and Dependents enroll if the Member is not contributing any part of the premium.\n",
              " Check further at Principal-Sample-Life-Insurance-Policy.pdfpage nos: 17, 26</p>"
            ]
          },
          "metadata": {}
        },
        {
          "name": "stdout",
          "output_type": "stream",
          "text": [
            "what are Premium Rates?\n"
          ]
        },
        {
          "output_type": "display_data",
          "data": {
            "text/plain": [
              "<IPython.core.display.HTML object>"
            ],
            "text/html": [
              "<p style=\"font-size:20px\">Premium rates for this policy are as follows:\n",
              "- Member Life Insurance: $0.210 for each $1,000 of insurance in force.\n",
              "- Member Accidental Death and Dismemberment Insurance: $0.025 for each $1,000 of Member Life Insurance in force.\n",
              "- Dependent Life Insurance: $1.46 for each Member insured for Dependent Life Insurance.\n",
              " Check further at Principal-Sample-Life-Insurance-Policy.pdfpage nos: 20, 21</p>"
            ]
          },
          "metadata": {}
        },
        {
          "output_type": "stream",
          "name": "stdout",
          "text": [
            "exit\n",
            "Exiting the program... bye\n"
          ]
        }
      ]
    },
    {
      "cell_type": "markdown",
      "source": [
        "\n",
        "**Step 7** - Build a Testing Pipeline\n",
        "\n",
        "Here we feed a series of questions to the Q/A bot and store the responses along with the feedback on whether it's accurate or not from the user\n",
        "\n",
        "Create atleast 5 questions and store them in the `questions` list to be queried by the RAG system using the `testing_pipeline` function."
      ],
      "metadata": {
        "id": "LI5whpCoHbXb"
      }
    },
    {
      "cell_type": "code",
      "source": [
        "questions = ['What are  Premium Rates', \"What are the Prior Policy  details?\",\"what are Policy Termination conditions?\"]"
      ],
      "metadata": {
        "id": "4IwV2ivRFVnj"
      },
      "execution_count": 33,
      "outputs": []
    },
    {
      "cell_type": "code",
      "source": [
        "def testing_pipeline(questions):\n",
        "\n",
        "    \"\"\"\n",
        "    Conduct a testing pipeline for a series of questions, collecting user\n",
        "    feedback on the responses provided by the bot.\n",
        "\n",
        "    Args:\n",
        "    questions (list): A list of questions to be tested.\n",
        "\n",
        "    Returns:\n",
        "    pd.DataFrame: A DataFrame containing the questions, their corresponding\n",
        "        responses, the page number from the response, and the user feedback\n",
        "        indicating whether the response was good or bad.\n",
        "    \"\"\"\n",
        "    test_feedback  = []\n",
        "    for i in questions:\n",
        "      print(i)\n",
        "      print(query_response(i))\n",
        "      print('\\n Please provide your feedback on the response provided by the bot. (\"GOOD\"/\"BAD\")')\n",
        "      user_input = input()\n",
        "      page = query_response(i).split()[-1]\n",
        "      test_feedback.append((i,query_response(i),page,user_input))\n",
        "\n",
        "    feedback_df = pd.DataFrame(test_feedback, columns =['Question', 'Response', 'Page','Feedback'])\n",
        "    return feedback_df\n"
      ],
      "metadata": {
        "id": "iYG7rV4ALiZB"
      },
      "execution_count": 38,
      "outputs": []
    },
    {
      "cell_type": "code",
      "source": [
        "testing_pipeline(questions)"
      ],
      "metadata": {
        "id": "YsRWud2uMfch",
        "outputId": "80dce29b-7381-4eb0-d6a0-0da95f5e7059",
        "colab": {
          "base_uri": "https://localhost:8080/",
          "height": 528
        }
      },
      "execution_count": 39,
      "outputs": [
        {
          "name": "stdout",
          "output_type": "stream",
          "text": [
            "What are  Premium Rates\n",
            "Premium rates for this policy are as follows:\n",
            "- Member Life Insurance: $0.210 for each $1,000 of insurance in force.\n",
            "- Member Accidental Death and Dismemberment Insurance: $0.025 for each $1,000 of Member Life Insurance in force.\n",
            "- Dependent Life Insurance: $1.46 for each Member insured for Dependent Life Insurance.\n",
            " Check further at Principal-Sample-Life-Insurance-Policy.pdfpage nos: 20, 21\n",
            "\n",
            " Please provide your feedback on the response provided by the bot. (\"GOOD\"/\"BAD\")\n",
            "GOOD\n",
            "What are the Prior Policy  details?\n",
            "The prior policy details are not explicitly mentioned in the provided context information.\n",
            " Check further at Principal-Sample-Life-Insurance-Policy.pdfpage nos: 19, 18\n",
            "\n",
            " Please provide your feedback on the response provided by the bot. (\"GOOD\"/\"BAD\")\n",
            "GOOD\n",
            "what are Policy Termination conditions?\n",
            "The Policy Termination conditions include termination due to failure to pay the premium within the Grace Period, termination rights of the Policyholder to terminate the policy by giving written notice before a premium due date, and termination rights of The Principal to nonrenew or terminate the policy for various reasons such as the Policyholder ceasing to be actively engaged in business, failing to maintain participation percentages requirements, failing to maintain a minimum number of insured employees, failing to pay premiums, engaging in fraud or intentional misrepresentation, not providing required information promptly, or failing to fulfill obligations related to the policy.\n",
            " Check further at Principal-Sample-Life-Insurance-Policy.pdfpage nos: 24, 23\n",
            "\n",
            " Please provide your feedback on the response provided by the bot. (\"GOOD\"/\"BAD\")\n",
            "GOOD\n"
          ]
        },
        {
          "output_type": "execute_result",
          "data": {
            "text/plain": [
              "                                  Question  \\\n",
              "0                  What are  Premium Rates   \n",
              "1      What are the Prior Policy  details?   \n",
              "2  what are Policy Termination conditions?   \n",
              "\n",
              "                                            Response Page Feedback  \n",
              "0  The premium rates for each Member insured for ...   21     GOOD  \n",
              "1  The prior policy details are not explicitly me...   18     GOOD  \n",
              "2  The Policy Termination conditions include term...   23     GOOD  "
            ],
            "text/html": [
              "\n",
              "  <div id=\"df-b7f67162-6b6f-4cc7-82f8-3c261829101a\" class=\"colab-df-container\">\n",
              "    <div>\n",
              "<style scoped>\n",
              "    .dataframe tbody tr th:only-of-type {\n",
              "        vertical-align: middle;\n",
              "    }\n",
              "\n",
              "    .dataframe tbody tr th {\n",
              "        vertical-align: top;\n",
              "    }\n",
              "\n",
              "    .dataframe thead th {\n",
              "        text-align: right;\n",
              "    }\n",
              "</style>\n",
              "<table border=\"1\" class=\"dataframe\">\n",
              "  <thead>\n",
              "    <tr style=\"text-align: right;\">\n",
              "      <th></th>\n",
              "      <th>Question</th>\n",
              "      <th>Response</th>\n",
              "      <th>Page</th>\n",
              "      <th>Feedback</th>\n",
              "    </tr>\n",
              "  </thead>\n",
              "  <tbody>\n",
              "    <tr>\n",
              "      <th>0</th>\n",
              "      <td>What are  Premium Rates</td>\n",
              "      <td>The premium rates for each Member insured for ...</td>\n",
              "      <td>21</td>\n",
              "      <td>GOOD</td>\n",
              "    </tr>\n",
              "    <tr>\n",
              "      <th>1</th>\n",
              "      <td>What are the Prior Policy  details?</td>\n",
              "      <td>The prior policy details are not explicitly me...</td>\n",
              "      <td>18</td>\n",
              "      <td>GOOD</td>\n",
              "    </tr>\n",
              "    <tr>\n",
              "      <th>2</th>\n",
              "      <td>what are Policy Termination conditions?</td>\n",
              "      <td>The Policy Termination conditions include term...</td>\n",
              "      <td>23</td>\n",
              "      <td>GOOD</td>\n",
              "    </tr>\n",
              "  </tbody>\n",
              "</table>\n",
              "</div>\n",
              "    <div class=\"colab-df-buttons\">\n",
              "\n",
              "  <div class=\"colab-df-container\">\n",
              "    <button class=\"colab-df-convert\" onclick=\"convertToInteractive('df-b7f67162-6b6f-4cc7-82f8-3c261829101a')\"\n",
              "            title=\"Convert this dataframe to an interactive table.\"\n",
              "            style=\"display:none;\">\n",
              "\n",
              "  <svg xmlns=\"http://www.w3.org/2000/svg\" height=\"24px\" viewBox=\"0 -960 960 960\">\n",
              "    <path d=\"M120-120v-720h720v720H120Zm60-500h600v-160H180v160Zm220 220h160v-160H400v160Zm0 220h160v-160H400v160ZM180-400h160v-160H180v160Zm440 0h160v-160H620v160ZM180-180h160v-160H180v160Zm440 0h160v-160H620v160Z\"/>\n",
              "  </svg>\n",
              "    </button>\n",
              "\n",
              "  <style>\n",
              "    .colab-df-container {\n",
              "      display:flex;\n",
              "      gap: 12px;\n",
              "    }\n",
              "\n",
              "    .colab-df-convert {\n",
              "      background-color: #E8F0FE;\n",
              "      border: none;\n",
              "      border-radius: 50%;\n",
              "      cursor: pointer;\n",
              "      display: none;\n",
              "      fill: #1967D2;\n",
              "      height: 32px;\n",
              "      padding: 0 0 0 0;\n",
              "      width: 32px;\n",
              "    }\n",
              "\n",
              "    .colab-df-convert:hover {\n",
              "      background-color: #E2EBFA;\n",
              "      box-shadow: 0px 1px 2px rgba(60, 64, 67, 0.3), 0px 1px 3px 1px rgba(60, 64, 67, 0.15);\n",
              "      fill: #174EA6;\n",
              "    }\n",
              "\n",
              "    .colab-df-buttons div {\n",
              "      margin-bottom: 4px;\n",
              "    }\n",
              "\n",
              "    [theme=dark] .colab-df-convert {\n",
              "      background-color: #3B4455;\n",
              "      fill: #D2E3FC;\n",
              "    }\n",
              "\n",
              "    [theme=dark] .colab-df-convert:hover {\n",
              "      background-color: #434B5C;\n",
              "      box-shadow: 0px 1px 3px 1px rgba(0, 0, 0, 0.15);\n",
              "      filter: drop-shadow(0px 1px 2px rgba(0, 0, 0, 0.3));\n",
              "      fill: #FFFFFF;\n",
              "    }\n",
              "  </style>\n",
              "\n",
              "    <script>\n",
              "      const buttonEl =\n",
              "        document.querySelector('#df-b7f67162-6b6f-4cc7-82f8-3c261829101a button.colab-df-convert');\n",
              "      buttonEl.style.display =\n",
              "        google.colab.kernel.accessAllowed ? 'block' : 'none';\n",
              "\n",
              "      async function convertToInteractive(key) {\n",
              "        const element = document.querySelector('#df-b7f67162-6b6f-4cc7-82f8-3c261829101a');\n",
              "        const dataTable =\n",
              "          await google.colab.kernel.invokeFunction('convertToInteractive',\n",
              "                                                    [key], {});\n",
              "        if (!dataTable) return;\n",
              "\n",
              "        const docLinkHtml = 'Like what you see? Visit the ' +\n",
              "          '<a target=\"_blank\" href=https://colab.research.google.com/notebooks/data_table.ipynb>data table notebook</a>'\n",
              "          + ' to learn more about interactive tables.';\n",
              "        element.innerHTML = '';\n",
              "        dataTable['output_type'] = 'display_data';\n",
              "        await google.colab.output.renderOutput(dataTable, element);\n",
              "        const docLink = document.createElement('div');\n",
              "        docLink.innerHTML = docLinkHtml;\n",
              "        element.appendChild(docLink);\n",
              "      }\n",
              "    </script>\n",
              "  </div>\n",
              "\n",
              "\n",
              "<div id=\"df-f5a5bbac-63a9-430d-a033-9e0c06b74683\">\n",
              "  <button class=\"colab-df-quickchart\" onclick=\"quickchart('df-f5a5bbac-63a9-430d-a033-9e0c06b74683')\"\n",
              "            title=\"Suggest charts\"\n",
              "            style=\"display:none;\">\n",
              "\n",
              "<svg xmlns=\"http://www.w3.org/2000/svg\" height=\"24px\"viewBox=\"0 0 24 24\"\n",
              "     width=\"24px\">\n",
              "    <g>\n",
              "        <path d=\"M19 3H5c-1.1 0-2 .9-2 2v14c0 1.1.9 2 2 2h14c1.1 0 2-.9 2-2V5c0-1.1-.9-2-2-2zM9 17H7v-7h2v7zm4 0h-2V7h2v10zm4 0h-2v-4h2v4z\"/>\n",
              "    </g>\n",
              "</svg>\n",
              "  </button>\n",
              "\n",
              "<style>\n",
              "  .colab-df-quickchart {\n",
              "      --bg-color: #E8F0FE;\n",
              "      --fill-color: #1967D2;\n",
              "      --hover-bg-color: #E2EBFA;\n",
              "      --hover-fill-color: #174EA6;\n",
              "      --disabled-fill-color: #AAA;\n",
              "      --disabled-bg-color: #DDD;\n",
              "  }\n",
              "\n",
              "  [theme=dark] .colab-df-quickchart {\n",
              "      --bg-color: #3B4455;\n",
              "      --fill-color: #D2E3FC;\n",
              "      --hover-bg-color: #434B5C;\n",
              "      --hover-fill-color: #FFFFFF;\n",
              "      --disabled-bg-color: #3B4455;\n",
              "      --disabled-fill-color: #666;\n",
              "  }\n",
              "\n",
              "  .colab-df-quickchart {\n",
              "    background-color: var(--bg-color);\n",
              "    border: none;\n",
              "    border-radius: 50%;\n",
              "    cursor: pointer;\n",
              "    display: none;\n",
              "    fill: var(--fill-color);\n",
              "    height: 32px;\n",
              "    padding: 0;\n",
              "    width: 32px;\n",
              "  }\n",
              "\n",
              "  .colab-df-quickchart:hover {\n",
              "    background-color: var(--hover-bg-color);\n",
              "    box-shadow: 0 1px 2px rgba(60, 64, 67, 0.3), 0 1px 3px 1px rgba(60, 64, 67, 0.15);\n",
              "    fill: var(--button-hover-fill-color);\n",
              "  }\n",
              "\n",
              "  .colab-df-quickchart-complete:disabled,\n",
              "  .colab-df-quickchart-complete:disabled:hover {\n",
              "    background-color: var(--disabled-bg-color);\n",
              "    fill: var(--disabled-fill-color);\n",
              "    box-shadow: none;\n",
              "  }\n",
              "\n",
              "  .colab-df-spinner {\n",
              "    border: 2px solid var(--fill-color);\n",
              "    border-color: transparent;\n",
              "    border-bottom-color: var(--fill-color);\n",
              "    animation:\n",
              "      spin 1s steps(1) infinite;\n",
              "  }\n",
              "\n",
              "  @keyframes spin {\n",
              "    0% {\n",
              "      border-color: transparent;\n",
              "      border-bottom-color: var(--fill-color);\n",
              "      border-left-color: var(--fill-color);\n",
              "    }\n",
              "    20% {\n",
              "      border-color: transparent;\n",
              "      border-left-color: var(--fill-color);\n",
              "      border-top-color: var(--fill-color);\n",
              "    }\n",
              "    30% {\n",
              "      border-color: transparent;\n",
              "      border-left-color: var(--fill-color);\n",
              "      border-top-color: var(--fill-color);\n",
              "      border-right-color: var(--fill-color);\n",
              "    }\n",
              "    40% {\n",
              "      border-color: transparent;\n",
              "      border-right-color: var(--fill-color);\n",
              "      border-top-color: var(--fill-color);\n",
              "    }\n",
              "    60% {\n",
              "      border-color: transparent;\n",
              "      border-right-color: var(--fill-color);\n",
              "    }\n",
              "    80% {\n",
              "      border-color: transparent;\n",
              "      border-right-color: var(--fill-color);\n",
              "      border-bottom-color: var(--fill-color);\n",
              "    }\n",
              "    90% {\n",
              "      border-color: transparent;\n",
              "      border-bottom-color: var(--fill-color);\n",
              "    }\n",
              "  }\n",
              "</style>\n",
              "\n",
              "  <script>\n",
              "    async function quickchart(key) {\n",
              "      const quickchartButtonEl =\n",
              "        document.querySelector('#' + key + ' button');\n",
              "      quickchartButtonEl.disabled = true;  // To prevent multiple clicks.\n",
              "      quickchartButtonEl.classList.add('colab-df-spinner');\n",
              "      try {\n",
              "        const charts = await google.colab.kernel.invokeFunction(\n",
              "            'suggestCharts', [key], {});\n",
              "      } catch (error) {\n",
              "        console.error('Error during call to suggestCharts:', error);\n",
              "      }\n",
              "      quickchartButtonEl.classList.remove('colab-df-spinner');\n",
              "      quickchartButtonEl.classList.add('colab-df-quickchart-complete');\n",
              "    }\n",
              "    (() => {\n",
              "      let quickchartButtonEl =\n",
              "        document.querySelector('#df-f5a5bbac-63a9-430d-a033-9e0c06b74683 button');\n",
              "      quickchartButtonEl.style.display =\n",
              "        google.colab.kernel.accessAllowed ? 'block' : 'none';\n",
              "    })();\n",
              "  </script>\n",
              "</div>\n",
              "\n",
              "    </div>\n",
              "  </div>\n"
            ],
            "application/vnd.google.colaboratory.intrinsic+json": {
              "type": "dataframe",
              "summary": "{\n  \"name\": \"testing_pipeline(questions)\",\n  \"rows\": 3,\n  \"fields\": [\n    {\n      \"column\": \"Question\",\n      \"properties\": {\n        \"dtype\": \"string\",\n        \"num_unique_values\": 3,\n        \"samples\": [\n          \"What are  Premium Rates\",\n          \"What are the Prior Policy  details?\",\n          \"what are Policy Termination conditions?\"\n        ],\n        \"semantic_type\": \"\",\n        \"description\": \"\"\n      }\n    },\n    {\n      \"column\": \"Response\",\n      \"properties\": {\n        \"dtype\": \"string\",\n        \"num_unique_values\": 3,\n        \"samples\": [\n          \"The premium rates for each Member insured for Life Insurance are as follows:\\n- Member Life Insurance: $0.210 for each $1,000 of insurance in force.\\n- Member Accidental Death and Dismemberment Insurance: $0.025 for each $1,000 of Member Life Insurance in force.\\n- Dependent Life Insurance: $1.46 for each Member insured for Dependent Life Insurance.\\n Check further at Principal-Sample-Life-Insurance-Policy.pdfpage nos: 20, 21\",\n          \"The prior policy details are not explicitly mentioned in the provided context information.\\n Check further at Principal-Sample-Life-Insurance-Policy.pdfpage nos: 19, 18\",\n          \"The Policy Termination conditions include termination due to failure to pay the premium within the Grace Period, termination rights of the Policyholder to terminate the policy by giving written notice before a premium due date, and termination rights of The Principal to nonrenew or terminate the policy for various reasons such as the Policyholder ceasing to be actively engaged in business, failing to maintain participation percentages, failing to maintain a minimum number of insured employees, failing to pay premiums, engaging in fraud or intentional misrepresentation, not providing required information promptly, or failing to fulfill obligations related to the policy.\\n Check further at Principal-Sample-Life-Insurance-Policy.pdfpage nos: 24, 23\"\n        ],\n        \"semantic_type\": \"\",\n        \"description\": \"\"\n      }\n    },\n    {\n      \"column\": \"Page\",\n      \"properties\": {\n        \"dtype\": \"string\",\n        \"num_unique_values\": 3,\n        \"samples\": [\n          \"21\",\n          \"18\",\n          \"23\"\n        ],\n        \"semantic_type\": \"\",\n        \"description\": \"\"\n      }\n    },\n    {\n      \"column\": \"Feedback\",\n      \"properties\": {\n        \"dtype\": \"category\",\n        \"num_unique_values\": 1,\n        \"samples\": [\n          \"GOOD\"\n        ],\n        \"semantic_type\": \"\",\n        \"description\": \"\"\n      }\n    }\n  ]\n}"
            }
          },
          "metadata": {},
          "execution_count": 39
        }
      ]
    }
  ]
}